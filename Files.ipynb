{
  "nbformat": 4,
  "nbformat_minor": 0,
  "metadata": {
    "colab": {
      "provenance": [],
      "authorship_tag": "ABX9TyN4lQ/wGWki6DBPd9O4/NvQ",
      "include_colab_link": true
    },
    "kernelspec": {
      "name": "python3",
      "display_name": "Python 3"
    },
    "language_info": {
      "name": "python"
    }
  },
  "cells": [
    {
      "cell_type": "markdown",
      "metadata": {
        "id": "view-in-github",
        "colab_type": "text"
      },
      "source": [
        "<a href=\"https://colab.research.google.com/github/MBilalIndher/Files/blob/main/Files.ipynb\" target=\"_parent\"><img src=\"https://colab.research.google.com/assets/colab-badge.svg\" alt=\"Open In Colab\"/></a>"
      ]
    },
    {
      "cell_type": "code",
      "execution_count": 2,
      "metadata": {
        "colab": {
          "base_uri": "https://localhost:8080/"
        },
        "id": "7KxF8ElRRUAv",
        "outputId": "b3f1d4d9-ee18-49c0-8b79-fb9d5bdf14bf"
      },
      "outputs": [
        {
          "output_type": "stream",
          "name": "stdout",
          "text": [
            "hello there\n",
            "i am muhammad bilal\n",
            "practicing files in python\n"
          ]
        }
      ],
      "source": [
        "# Reading the original File\n",
        "\n",
        "\n",
        "\n",
        "f = open(\"/content/sample_data/Gituhub sample.txt\", 'r')\n",
        "data = f.read()\n",
        "print(data)"
      ]
    },
    {
      "cell_type": "code",
      "source": [
        "# Writing a new content in File\n",
        "\n",
        "\n",
        "\n",
        "f = open(\"/content/sample_data/Gituhub sample.txt\", 'w')\n",
        "f.write(\"this is a new written content\")\n",
        "f.close()\n",
        "\n",
        "f = open(\"/content/sample_data/Gituhub sample.txt\", 'r')\n",
        "print(f.read())"
      ],
      "metadata": {
        "colab": {
          "base_uri": "https://localhost:8080/"
        },
        "id": "MW2tUiuMR2Ch",
        "outputId": "772c9c21-17f0-4d83-845a-55a4a94e9a13"
      },
      "execution_count": 5,
      "outputs": [
        {
          "output_type": "stream",
          "name": "stdout",
          "text": [
            "this is a new written content\n"
          ]
        }
      ]
    },
    {
      "cell_type": "code",
      "source": [
        "# Appending a New content in File\n",
        "\n",
        "\n",
        "f = open(\"/content/sample_data/Gituhub sample.txt\", 'a')\n",
        "f.write(\"\\n This is appended content\")\n",
        "f.close()\n",
        "\n",
        "f = open(\"/content/sample_data/Gituhub sample.txt\", 'r')\n",
        "print(f.read())"
      ],
      "metadata": {
        "colab": {
          "base_uri": "https://localhost:8080/"
        },
        "id": "r4xcy71qSRkD",
        "outputId": "c515ec0e-4890-44f8-c136-6d9cfe72d303"
      },
      "execution_count": 8,
      "outputs": [
        {
          "output_type": "stream",
          "name": "stdout",
          "text": [
            "this is a new written contentThis is appended content/n This is appended content\n",
            " This is appended content\n"
          ]
        }
      ]
    },
    {
      "cell_type": "code",
      "source": [
        "# Replacing the words in content\n",
        "\n",
        "\n",
        "f = open(\"/content/sample_data/Gituhub sample.txt\", 'r')\n",
        "data = f.read()\n",
        "\n",
        "new_data = data.replace(\"appended\", \"replaced\")\n",
        "f.close()\n",
        "\n",
        "f = open(\"/content/sample_data/Gituhub sample.txt\", 'w')\n",
        "f.write(new_data)\n",
        "f.close()\n",
        "\n",
        "f = open(\"/content/sample_data/Gituhub sample.txt\", 'r')\n",
        "print(f.read())\n",
        "\n"
      ],
      "metadata": {
        "colab": {
          "base_uri": "https://localhost:8080/"
        },
        "id": "_ro9vJpKTCuP",
        "outputId": "facc2708-892c-492e-84bd-a8c5f89e4f90"
      },
      "execution_count": 10,
      "outputs": [
        {
          "output_type": "stream",
          "name": "stdout",
          "text": [
            "this is a new written contentThis is replaced content/n This is replaced content\n",
            " This is replaced content\n"
          ]
        }
      ]
    },
    {
      "cell_type": "code",
      "source": [],
      "metadata": {
        "id": "K8uFW2RtUGDm"
      },
      "execution_count": null,
      "outputs": []
    }
  ]
}